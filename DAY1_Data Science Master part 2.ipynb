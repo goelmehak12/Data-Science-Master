{
 "cells": [
  {
   "cell_type": "code",
   "execution_count": 1,
   "id": "9177150a-1414-4710-b6d1-2b2578495baa",
   "metadata": {},
   "outputs": [
    {
     "name": "stdout",
     "output_type": "stream",
     "text": [
      "my age is: 22\n"
     ]
    }
   ],
   "source": [
    "age=22\n",
    "print(\"my age is:\",age)"
   ]
  },
  {
   "cell_type": "code",
   "execution_count": 2,
   "id": "a134468e-b7c0-4536-a8a1-355e5dc22599",
   "metadata": {},
   "outputs": [
    {
     "name": "stdin",
     "output_type": "stream",
     "text": [
      "0 24\n"
     ]
    },
    {
     "name": "stdout",
     "output_type": "stream",
     "text": [
      "my age is: 24\n"
     ]
    }
   ],
   "source": [
    "age=input(int())\n",
    "print(\"my age is:\" ,age)"
   ]
  },
  {
   "cell_type": "code",
   "execution_count": 3,
   "id": "8dd3714e-6bce-4b11-a7a9-70fa6ddb8194",
   "metadata": {},
   "outputs": [
    {
     "name": "stdout",
     "output_type": "stream",
     "text": [
      "my age is:10\n"
     ]
    }
   ],
   "source": [
    "# F string\n",
    "age=10\n",
    "print(f\"my age is:{age}\")"
   ]
  },
  {
   "cell_type": "code",
   "execution_count": 7,
   "id": "5d61485c-724f-4829-a574-f372a6284aa7",
   "metadata": {},
   "outputs": [
    {
     "name": "stdout",
     "output_type": "stream",
     "text": [
      "my name is Mehak and age is 22\n"
     ]
    }
   ],
   "source": [
    "# format\n",
    "\n",
    "name=\"Mehak\"\n",
    "age=22\n",
    "\n",
    "print(\"my name is {} and age is {}\".format(name,age))"
   ]
  },
  {
   "cell_type": "code",
   "execution_count": 8,
   "id": "62b70444-43fa-4949-9f46-8bb759dea1f0",
   "metadata": {},
   "outputs": [
    {
     "name": "stdout",
     "output_type": "stream",
     "text": [
      "my name is Mehak and age is 22\n"
     ]
    }
   ],
   "source": [
    "print(\"my name is {firstname} and age is {firstage}\".format(firstname=name,firstage=age))"
   ]
  },
  {
   "cell_type": "code",
   "execution_count": 9,
   "id": "0a819643-6bb9-4d16-8cf3-7367dafc1e2d",
   "metadata": {},
   "outputs": [
    {
     "name": "stdout",
     "output_type": "stream",
     "text": [
      "My age is 22 and i ahve completed: my degree of BCA with the name of Mehak\n"
     ]
    }
   ],
   "source": [
    "name=\"Mehak\"\n",
    "age=22\n",
    "degree=\"BCA\"\n",
    "\n",
    "print(\"My age is {firstage} and i ahve completed: my degree of {Firstdegree} with the name of {fullname}\".format(fullname=name,firstage=age,Firstdegree=degree))"
   ]
  },
  {
   "cell_type": "code",
   "execution_count": 11,
   "id": "2ce5812e-f908-4837-a26c-f85cf23cf397",
   "metadata": {},
   "outputs": [
    {
     "name": "stdout",
     "output_type": "stream",
     "text": [
      "My age is 22 and i ahve completed: my degree of BCA with the name of Mehak\n"
     ]
    }
   ],
   "source": [
    "print(f\"My age is {age} and i ahve completed: my degree of {degree} with the name of {name}\")"
   ]
  },
  {
   "cell_type": "markdown",
   "id": "6c0c0694-73cf-4c40-923f-2c9bed3cd396",
   "metadata": {},
   "source": [
    "## control Flow \n",
    "### Decision Making Statements"
   ]
  },
  {
   "cell_type": "code",
   "execution_count": 15,
   "id": "905fb86b-d372-43de-bf34-567375da6aea",
   "metadata": {},
   "outputs": [
    {
     "name": "stdin",
     "output_type": "stream",
     "text": [
      " 12\n"
     ]
    },
    {
     "name": "stdout",
     "output_type": "stream",
     "text": [
      "since your age is less than or not equal to 18 you will not be  able to vote \n"
     ]
    }
   ],
   "source": [
    "# if statement\n",
    "\n",
    "age=int(input())\n",
    "if age>=18:\n",
    "    print(\"You are eligbile to vote\")\n",
    "else:\n",
    "    print(\"since your age is less than or not equal to 18 you will not be  able to vote \")"
   ]
  },
  {
   "cell_type": "code",
   "execution_count": 22,
   "id": "6ca18ff5-0a15-46cc-abd3-4db4efc24fd0",
   "metadata": {},
   "outputs": [
    {
     "name": "stdin",
     "output_type": "stream",
     "text": [
      "Enter your age: 50\n"
     ]
    },
    {
     "name": "stdout",
     "output_type": "stream",
     "text": [
      "You are old\n"
     ]
    }
   ],
   "source": [
    "age=int(input(\"Enter your age:\"))\n",
    "\n",
    "if (age>=18 and age<=45):\n",
    "    print(\"You are young blood\")\n",
    "else:\n",
    "    print(\"You are old\")"
   ]
  },
  {
   "cell_type": "code",
   "execution_count": 27,
   "id": "ad371675-82b2-4c59-9490-c032a4da9c69",
   "metadata": {},
   "outputs": [
    {
     "name": "stdin",
     "output_type": "stream",
     "text": [
      "Enter the product price 500\n"
     ]
    },
    {
     "name": "stdout",
     "output_type": "stream",
     "text": [
      "you have to pay350.0 if you purchase under the range of 1000 \n"
     ]
    }
   ],
   "source": [
    "product_price=int(input(\"Enter the product price\"))\n",
    "\n",
    "if product_price>1000:\n",
    "    final_price=product_price-(product_price*0.2)\n",
    "    print(f\"You have to pay {final_price} \")\n",
    "else:\n",
    "    final_price_1=product_price-(product_price*0.3)\n",
    "    print(f\"you have to pay{final_price_1} if you purchase under the range of 1000 \")\n",
    "    "
   ]
  },
  {
   "cell_type": "code",
   "execution_count": 40,
   "id": "909d14a7-215c-430f-a2ad-0f01635880af",
   "metadata": {},
   "outputs": [
    {
     "name": "stdin",
     "output_type": "stream",
     "text": [
      "Enter the product price 4000\n"
     ]
    },
    {
     "name": "stdout",
     "output_type": "stream",
     "text": [
      "congratulations you get a goa trip\n",
      "The price of the product is 3200.0\n"
     ]
    }
   ],
   "source": [
    "# TASK 2\n",
    "\n",
    "product_price=int(input(\"Enter the product price\"))\n",
    "\n",
    "if product_price>3000:\n",
    "    if product_price==4000:\n",
    "        print(\"congratulations you get a goa trip\")\n",
    "    print(\"The price of the product is {}\".format(product_price-(product_price*0.2)))\n",
    "elif product_price>=2000 and product_price<=3000 :\n",
    "    if product_price==2999:\n",
    "        print(\"You will get a additional free SUITCASE\")\n",
    "    print(\"The price of the product is {}\".format(product_price-(product_price*0.3)))\n",
    "else:\n",
    "    print(\"The price of the product is {} \".format(product_price-(product_price*0.4)))"
   ]
  },
  {
   "cell_type": "code",
   "execution_count": 2,
   "id": "908f28ec-f600-43c9-be88-c7297905f94e",
   "metadata": {},
   "outputs": [
    {
     "name": "stdin",
     "output_type": "stream",
     "text": [
      "Enter the Number 1000\n"
     ]
    }
   ],
   "source": [
    "# Singe statement suite\n",
    "\n",
    "val=int(input(\"Enter the Number\"))\n",
    "if (val<=999):print(\"Value is less than equal to 999\")\n"
   ]
  },
  {
   "cell_type": "markdown",
   "id": "a634a8e7-ba9b-460a-94b2-5495e5361d6f",
   "metadata": {},
   "source": [
    "## LOOPS Statements \n",
    "1.while loop\n",
    "2.for loop \n",
    "3.nested loop\n",
    "4.Loop control(break, countinue,pass)"
   ]
  },
  {
   "cell_type": "code",
   "execution_count": 5,
   "id": "36fcb638-1fbd-49ea-94e1-afc70d4fc3f1",
   "metadata": {},
   "outputs": [
    {
     "name": "stdout",
     "output_type": "stream",
     "text": [
      "25\n",
      "26\n",
      "27\n",
      "28\n",
      "29\n",
      "30\n",
      "31\n",
      "32\n",
      "33\n",
      "34\n",
      "35\n",
      "36\n",
      "37\n",
      "38\n",
      "39\n",
      "40\n",
      "41\n",
      "42\n",
      "43\n",
      "44\n",
      "45\n",
      "46\n",
      "47\n",
      "48\n",
      "49\n",
      "50\n",
      "51\n",
      "52\n",
      "53\n",
      "54\n",
      "55\n",
      "56\n",
      "57\n",
      "58\n",
      "59\n",
      "60\n",
      "Its time for Retirement\n"
     ]
    }
   ],
   "source": [
    "#while Loop\n",
    "\n",
    "joining_date=25\n",
    "while joining_date<=60:\n",
    "    print(joining_date)\n",
    "    joining_date=joining_date+1\n",
    "else:\n",
    "    print(\"Its time for Retirement\")"
   ]
  },
  {
   "cell_type": "code",
   "execution_count": 9,
   "id": "6cc57672-d173-4790-8bb0-585a3aa0c69c",
   "metadata": {},
   "outputs": [
    {
     "name": "stdout",
     "output_type": "stream",
     "text": [
      "1000\n",
      "900\n",
      "800\n",
      "700\n",
      "600\n",
      "500\n",
      "400\n",
      "300\n",
      "200\n",
      "100\n",
      "put more money bank people\n"
     ]
    }
   ],
   "source": [
    "###ATM Machine with 1000rupees\n",
    "\n",
    "total_amount=1000\n",
    "\n",
    "while total_amount!=0:\n",
    "    print(total_amount)\n",
    "    total_amount=total_amount-100\n",
    "else:\n",
    "    print(\"put more money bank people\")\n",
    "    "
   ]
  },
  {
   "cell_type": "markdown",
   "id": "8543131f-e7b1-4f6d-9efb-73535b45911f",
   "metadata": {},
   "source": [
    "## For LOOP\n"
   ]
  },
  {
   "cell_type": "code",
   "execution_count": 10,
   "id": "477dc535-f8fd-4174-91a6-dd0331dc6550",
   "metadata": {},
   "outputs": [],
   "source": [
    "list=[\"Mehak\",1,2,3,4,5,\"apple\",\"cherry\"]"
   ]
  },
  {
   "cell_type": "code",
   "execution_count": 11,
   "id": "2ca3b68f-9d30-4f57-8c74-fe7ce110d84f",
   "metadata": {},
   "outputs": [
    {
     "data": {
      "text/plain": [
       "['Mehak', 1, 2, 3, 4, 5, 'apple', 'cherry']"
      ]
     },
     "execution_count": 11,
     "metadata": {},
     "output_type": "execute_result"
    }
   ],
   "source": [
    "list"
   ]
  },
  {
   "cell_type": "code",
   "execution_count": 12,
   "id": "0d94ad97-4ba3-4f39-85df-bb790588f6ec",
   "metadata": {},
   "outputs": [
    {
     "data": {
      "text/plain": [
       "list"
      ]
     },
     "execution_count": 12,
     "metadata": {},
     "output_type": "execute_result"
    }
   ],
   "source": [
    "type(list)"
   ]
  },
  {
   "cell_type": "code",
   "execution_count": 13,
   "id": "44cb9f6f-852e-4442-99bb-8d9700440de1",
   "metadata": {},
   "outputs": [
    {
     "name": "stdout",
     "output_type": "stream",
     "text": [
      "Mehak\n",
      "1\n",
      "2\n",
      "3\n",
      "4\n",
      "5\n",
      "apple\n",
      "cherry\n"
     ]
    }
   ],
   "source": [
    "for i in list:\n",
    "    print(i)"
   ]
  },
  {
   "cell_type": "code",
   "execution_count": 14,
   "id": "5bcd64d6-e431-47b8-9941-03025a47981f",
   "metadata": {},
   "outputs": [],
   "source": [
    "fruit_list=[\"Mango\",\"Cherry\",\"Apple\",\"Papaya\",\"Banana\"]"
   ]
  },
  {
   "cell_type": "code",
   "execution_count": 31,
   "id": "323bbcc6-8c5d-45b6-a213-8dba4f7135fa",
   "metadata": {},
   "outputs": [
    {
     "name": "stdout",
     "output_type": "stream",
     "text": [
      "Mango\n",
      "Cherry\n",
      "Apple\n",
      "Papaya\n",
      "Banana\n"
     ]
    }
   ],
   "source": [
    "for i in fruit_list:\n",
    "    print(i)\n",
    "    if i=='cherry':\n",
    "        print(\"This fruit is cherry\")\n",
    "        "
   ]
  },
  {
   "cell_type": "code",
   "execution_count": 32,
   "id": "299901cb-ff92-43ae-a02b-968a351d1677",
   "metadata": {},
   "outputs": [
    {
     "name": "stdout",
     "output_type": "stream",
     "text": [
      "M\n",
      "a\n",
      "n\n",
      "g\n",
      "o\n"
     ]
    }
   ],
   "source": [
    "fruit=\"Mango\"\n",
    "for i in fruit:\n",
    "    print(i)"
   ]
  },
  {
   "cell_type": "code",
   "execution_count": 33,
   "id": "50c45158-983d-4a65-9b94-f4d1166f2ab6",
   "metadata": {},
   "outputs": [
    {
     "data": {
      "text/plain": [
       "'M'"
      ]
     },
     "execution_count": 33,
     "metadata": {},
     "output_type": "execute_result"
    }
   ],
   "source": [
    "fruit[0]"
   ]
  },
  {
   "cell_type": "code",
   "execution_count": 34,
   "id": "c84bd22d-8026-43ea-929f-686c575ac1d2",
   "metadata": {},
   "outputs": [
    {
     "data": {
      "text/plain": [
       "'g'"
      ]
     },
     "execution_count": 34,
     "metadata": {},
     "output_type": "execute_result"
    }
   ],
   "source": [
    "fruit[3]"
   ]
  },
  {
   "cell_type": "code",
   "execution_count": 35,
   "id": "d599d2a2-4db4-4358-8be6-9266575d1122",
   "metadata": {},
   "outputs": [
    {
     "data": {
      "text/plain": [
       "'n'"
      ]
     },
     "execution_count": 35,
     "metadata": {},
     "output_type": "execute_result"
    }
   ],
   "source": [
    "fruit[-3]"
   ]
  },
  {
   "cell_type": "code",
   "execution_count": null,
   "id": "a709ee54-fcce-4cc4-a521-76e41010c71a",
   "metadata": {},
   "outputs": [],
   "source": [
    "### Range "
   ]
  },
  {
   "cell_type": "code",
   "execution_count": 43,
   "id": "ef7b8e25-9f91-4732-82ee-46a16241ad37",
   "metadata": {},
   "outputs": [
    {
     "name": "stdout",
     "output_type": "stream",
     "text": [
      "1\n",
      "3\n",
      "5\n"
     ]
    }
   ],
   "source": [
    "for i in range(1,6,2):\n",
    "    print(i)"
   ]
  },
  {
   "cell_type": "code",
   "execution_count": 55,
   "id": "821a96af-00f2-4763-bc1e-22d085b08866",
   "metadata": {},
   "outputs": [
    {
     "name": "stdout",
     "output_type": "stream",
     "text": [
      "*\n",
      "**\n",
      "***\n",
      "****\n",
      "*****\n",
      "******\n",
      "*******\n"
     ]
    }
   ],
   "source": [
    "# Nested loop\n",
    "\n",
    "n=7\n",
    "\n",
    "for i in range(0,n):\n",
    "    for j in range(0,i+1):\n",
    "        print(\"*\",end=\"\")\n",
    "    print(\"\\r\")"
   ]
  },
  {
   "cell_type": "code",
   "execution_count": 56,
   "id": "3b903ea0-55d2-4be5-a59d-37cb682f80e4",
   "metadata": {},
   "outputs": [],
   "source": [
    "# Loop Control\n",
    "# Break ANd Continue\n",
    "\n",
    "fruit_list=[\"Mango\",\"cherry\",\"Apple\",\"Papaya\",\"Banana\"]"
   ]
  },
  {
   "cell_type": "code",
   "execution_count": 67,
   "id": "24d06306-67f8-49c7-919d-51c996ca9e1c",
   "metadata": {},
   "outputs": [
    {
     "name": "stdout",
     "output_type": "stream",
     "text": [
      "Mango\n",
      "cherry\n",
      "This fruit is apple\n"
     ]
    }
   ],
   "source": [
    "for i in fruit_list:\n",
    "    if i==\"Apple\":\n",
    "        print(\"This fruit is apple\")\n",
    "        break\n",
    "    print(i)"
   ]
  },
  {
   "cell_type": "code",
   "execution_count": 68,
   "id": "dd007501-c520-4fd0-8e2f-3e213cdf3725",
   "metadata": {},
   "outputs": [
    {
     "name": "stdout",
     "output_type": "stream",
     "text": [
      "Mango\n",
      "cherry\n",
      "This fruit is apple\n",
      "Apple\n",
      "Papaya\n",
      "Banana\n"
     ]
    }
   ],
   "source": [
    "for i in fruit_list:\n",
    "    if i==\"Apple\":\n",
    "        print(\"This fruit is apple\")\n",
    "        pass\n",
    "    print(i)"
   ]
  },
  {
   "cell_type": "code",
   "execution_count": 70,
   "id": "53878874-eb7a-4777-b089-9de0714151e7",
   "metadata": {},
   "outputs": [
    {
     "name": "stdout",
     "output_type": "stream",
     "text": [
      "Mango\n",
      "cherry\n",
      "This fruit is apple\n",
      "Papaya\n",
      "Banana\n"
     ]
    }
   ],
   "source": [
    "for i in fruit_list:\n",
    "    if i==\"Apple\":\n",
    "        print(\"This fruit is apple\")\n",
    "        continue\n",
    "    print(i)"
   ]
  },
  {
   "cell_type": "code",
   "execution_count": null,
   "id": "89ff8c59-e5c4-4b90-9ba6-9051795d8e8d",
   "metadata": {},
   "outputs": [],
   "source": []
  },
  {
   "cell_type": "code",
   "execution_count": null,
   "id": "ecb04209-2352-4a96-ab4e-7318991a3d64",
   "metadata": {},
   "outputs": [],
   "source": []
  },
  {
   "cell_type": "code",
   "execution_count": null,
   "id": "a5afcfa3-e3fc-4ae3-a70f-cc571925ea5f",
   "metadata": {},
   "outputs": [],
   "source": []
  },
  {
   "cell_type": "code",
   "execution_count": null,
   "id": "92c5230b-7df2-4ebd-b02a-19403ab8fd00",
   "metadata": {},
   "outputs": [],
   "source": []
  },
  {
   "cell_type": "code",
   "execution_count": null,
   "id": "8b6f0cae-f623-41e9-9010-806ee64f3280",
   "metadata": {},
   "outputs": [],
   "source": [
    "\n",
    "\n"
   ]
  }
 ],
 "metadata": {
  "kernelspec": {
   "display_name": "Python 3 (ipykernel)",
   "language": "python",
   "name": "python3"
  },
  "language_info": {
   "codemirror_mode": {
    "name": "ipython",
    "version": 3
   },
   "file_extension": ".py",
   "mimetype": "text/x-python",
   "name": "python",
   "nbconvert_exporter": "python",
   "pygments_lexer": "ipython3",
   "version": "3.10.8"
  }
 },
 "nbformat": 4,
 "nbformat_minor": 5
}
