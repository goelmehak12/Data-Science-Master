{
 "cells": [
  {
   "cell_type": "markdown",
   "id": "b951200e-36cc-4488-bea7-587e1ea64ce1",
   "metadata": {},
   "source": [
    "NUMBERS"
   ]
  },
  {
   "cell_type": "code",
   "execution_count": 4,
   "id": "446602a5-9d58-4a6a-b8c4-44c79da4a294",
   "metadata": {},
   "outputs": [],
   "source": [
    "a=10"
   ]
  },
  {
   "cell_type": "code",
   "execution_count": 5,
   "id": "097240d0-fb3b-43d0-9a25-522a187f228a",
   "metadata": {},
   "outputs": [
    {
     "data": {
      "text/plain": [
       "10"
      ]
     },
     "execution_count": 5,
     "metadata": {},
     "output_type": "execute_result"
    }
   ],
   "source": [
    "a"
   ]
  },
  {
   "cell_type": "code",
   "execution_count": 6,
   "id": "8da6d067-a125-4957-bf41-d42ad0dcfb5b",
   "metadata": {},
   "outputs": [
    {
     "name": "stdout",
     "output_type": "stream",
     "text": [
      "10\n"
     ]
    }
   ],
   "source": [
    "print(a)"
   ]
  },
  {
   "cell_type": "code",
   "execution_count": 8,
   "id": "fbaada84-7bb6-4d9c-9701-dd44a3397ea1",
   "metadata": {},
   "outputs": [
    {
     "name": "stdout",
     "output_type": "stream",
     "text": [
      "hello world \n",
      " my name is mehak i work in coforge \n"
     ]
    }
   ],
   "source": [
    "print(\"hello world \\n my name is mehak i work in coforge \")"
   ]
  },
  {
   "cell_type": "markdown",
   "id": "93bffc2e-7f4f-473d-9b12-1bb16e05a178",
   "metadata": {},
   "source": [
    "## Variable Assigment"
   ]
  },
  {
   "cell_type": "code",
   "execution_count": 10,
   "id": "17580961-58c7-4162-9b06-a580e48dac20",
   "metadata": {},
   "outputs": [],
   "source": [
    "name=\"Mehak \"\n",
    "company=\"coforge\""
   ]
  },
  {
   "cell_type": "code",
   "execution_count": 11,
   "id": "05f2d479-78be-44ed-989b-be8fa61e5568",
   "metadata": {},
   "outputs": [
    {
     "data": {
      "text/plain": [
       "'Mehak '"
      ]
     },
     "execution_count": 11,
     "metadata": {},
     "output_type": "execute_result"
    }
   ],
   "source": [
    "name "
   ]
  },
  {
   "cell_type": "code",
   "execution_count": 12,
   "id": "d63282e2-d587-426c-a365-d09dfd2dbb23",
   "metadata": {},
   "outputs": [],
   "source": [
    "number=10"
   ]
  },
  {
   "cell_type": "code",
   "execution_count": 13,
   "id": "faa48372-b73f-4669-86e8-ee071e094716",
   "metadata": {},
   "outputs": [
    {
     "data": {
      "text/plain": [
       "10"
      ]
     },
     "execution_count": 13,
     "metadata": {},
     "output_type": "execute_result"
    }
   ],
   "source": [
    "number"
   ]
  },
  {
   "cell_type": "code",
   "execution_count": 14,
   "id": "ca82a45f-35a5-44ea-b56f-1b6ef8abf160",
   "metadata": {},
   "outputs": [],
   "source": [
    "name=\"Bala\""
   ]
  },
  {
   "cell_type": "code",
   "execution_count": 15,
   "id": "ca3aa513-12fc-4b60-bc71-2b7f9cf039b5",
   "metadata": {},
   "outputs": [
    {
     "data": {
      "text/plain": [
       "'Bala'"
      ]
     },
     "execution_count": 15,
     "metadata": {},
     "output_type": "execute_result"
    }
   ],
   "source": [
    "name"
   ]
  },
  {
   "cell_type": "code",
   "execution_count": 16,
   "id": "1cdd76ae-7869-410e-8c9e-956e2732eb11",
   "metadata": {},
   "outputs": [],
   "source": [
    "number=20"
   ]
  },
  {
   "cell_type": "code",
   "execution_count": 17,
   "id": "9a07c7d3-e462-4f70-85e6-d1e14c4ec3d1",
   "metadata": {},
   "outputs": [
    {
     "data": {
      "text/plain": [
       "20"
      ]
     },
     "execution_count": 17,
     "metadata": {},
     "output_type": "execute_result"
    }
   ],
   "source": [
    "number"
   ]
  },
  {
   "cell_type": "code",
   "execution_count": 18,
   "id": "af7d9c43-9493-4c35-abe5-47c086a47d79",
   "metadata": {},
   "outputs": [
    {
     "data": {
      "text/plain": [
       "int"
      ]
     },
     "execution_count": 18,
     "metadata": {},
     "output_type": "execute_result"
    }
   ],
   "source": [
    "type(number)"
   ]
  },
  {
   "cell_type": "code",
   "execution_count": 20,
   "id": "610ef8fa-c96a-4990-8301-d5388ff5f3af",
   "metadata": {},
   "outputs": [
    {
     "data": {
      "text/plain": [
       "'23'"
      ]
     },
     "execution_count": 20,
     "metadata": {},
     "output_type": "execute_result"
    }
   ],
   "source": [
    "str(23)"
   ]
  },
  {
   "cell_type": "code",
   "execution_count": 21,
   "id": "e268fb28-4837-468b-b7a0-6540baa00dc9",
   "metadata": {},
   "outputs": [
    {
     "data": {
      "text/plain": [
       "23"
      ]
     },
     "execution_count": 21,
     "metadata": {},
     "output_type": "execute_result"
    }
   ],
   "source": [
    "int('23')"
   ]
  },
  {
   "cell_type": "code",
   "execution_count": 22,
   "id": "d754c93f-e4c7-46f0-9b5e-a49e37f917a8",
   "metadata": {},
   "outputs": [
    {
     "data": {
      "text/plain": [
       "int"
      ]
     },
     "execution_count": 22,
     "metadata": {},
     "output_type": "execute_result"
    }
   ],
   "source": [
    "type( int('23'))"
   ]
  },
  {
   "cell_type": "markdown",
   "id": "a1a8bac7-8800-4dd5-b095-436c612b40fc",
   "metadata": {},
   "source": [
    "### Dynamic Typing"
   ]
  },
  {
   "cell_type": "markdown",
   "id": "7692ab4e-544c-478a-b981-83948f5b12e9",
   "metadata": {},
   "source": [
    "## IN other programming language \n",
    "We first need to initialize \n",
    "like int of a like that '\n",
    "\n",
    "But in python if we type \n",
    "a=10\n",
    "\n",
    "so the python knows that a is of integer type \n",
    "\n",
    "so python is of dynamic typing"
   ]
  },
  {
   "cell_type": "markdown",
   "id": "c0244b58-64d3-4daf-851f-eb69e4af4be3",
   "metadata": {},
   "source": [
    "## Concatination between different types"
   ]
  },
  {
   "cell_type": "code",
   "execution_count": 28,
   "id": "19c8352c-8fbe-434d-869b-82f962b3aba4",
   "metadata": {},
   "outputs": [
    {
     "data": {
      "text/plain": [
       "'11'"
      ]
     },
     "execution_count": 28,
     "metadata": {},
     "output_type": "execute_result"
    }
   ],
   "source": [
    "'1'+'1'"
   ]
  },
  {
   "cell_type": "code",
   "execution_count": 29,
   "id": "8ace1bfb-0f3e-4257-ab4b-aba774bbfa7f",
   "metadata": {},
   "outputs": [
    {
     "data": {
      "text/plain": [
       "'1111111111111111111111111111111111111111111111111111111111111111111111111111111111111111111111111111'"
      ]
     },
     "execution_count": 29,
     "metadata": {},
     "output_type": "execute_result"
    }
   ],
   "source": [
    "'1'*100"
   ]
  },
  {
   "cell_type": "code",
   "execution_count": 30,
   "id": "356fb98d-c27d-49f5-bd42-59436669c299",
   "metadata": {},
   "outputs": [
    {
     "data": {
      "text/plain": [
       "0"
      ]
     },
     "execution_count": 30,
     "metadata": {},
     "output_type": "execute_result"
    }
   ],
   "source": [
    "0"
   ]
  },
  {
   "cell_type": "code",
   "execution_count": 31,
   "id": "f439848e-95f4-4d7a-9a5b-ee94686e4941",
   "metadata": {},
   "outputs": [
    {
     "data": {
      "text/plain": [
       "True"
      ]
     },
     "execution_count": 31,
     "metadata": {},
     "output_type": "execute_result"
    }
   ],
   "source": [
    "bool(1)"
   ]
  },
  {
   "cell_type": "code",
   "execution_count": null,
   "id": "a4406462-5b2d-49a5-823e-6b993443b5e0",
   "metadata": {},
   "outputs": [],
   "source": []
  }
 ],
 "metadata": {
  "kernelspec": {
   "display_name": "Python 3 (ipykernel)",
   "language": "python",
   "name": "python3"
  },
  "language_info": {
   "codemirror_mode": {
    "name": "ipython",
    "version": 3
   },
   "file_extension": ".py",
   "mimetype": "text/x-python",
   "name": "python",
   "nbconvert_exporter": "python",
   "pygments_lexer": "ipython3",
   "version": "3.10.8"
  }
 },
 "nbformat": 4,
 "nbformat_minor": 5
}
